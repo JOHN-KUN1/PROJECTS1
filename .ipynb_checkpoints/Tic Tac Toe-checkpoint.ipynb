{
 "cells": [
  {
   "cell_type": "code",
   "execution_count": 1,
   "id": "8879647e",
   "metadata": {},
   "outputs": [],
   "source": [
    "# tic tac toe game in python\n"
   ]
  },
  {
   "cell_type": "code",
   "execution_count": null,
   "id": "b7962650",
   "metadata": {},
   "outputs": [],
   "source": [
    "board = [' ' for x in range(10)]"
   ]
  },
  {
   "cell_type": "code",
   "execution_count": null,
   "id": "586195db",
   "metadata": {},
   "outputs": [],
   "source": [
    "def insertLetter(letter,pos):\n",
    "    board[pos] = letter"
   ]
  },
  {
   "cell_type": "code",
   "execution_count": null,
   "id": "0b6c9cc0",
   "metadata": {},
   "outputs": [],
   "source": [
    "def spaceIsFree(pos):\n",
    "    return board[pos] == ' '"
   ]
  },
  {
   "cell_type": "code",
   "execution_count": null,
   "id": "87fadea3",
   "metadata": {},
   "outputs": [],
   "source": [
    "def printBoard(board):\n",
    "    print('   |   |')\n",
    "    print(' '+ board[1] + ' | ' + board[2] + ' | '+ board[3])\n",
    "    print('   |   |')\n",
    "    print('-----------')\n",
    "    print('   |   |')\n",
    "    print(' '+ board[4] + ' | ' + board[5] + ' | '+ board[6])\n",
    "    print('   |   |')\n",
    "    print('-----------')\n",
    "    print('   |   |')\n",
    "    print(' '+ board[7] + ' | ' + board[8] + ' | '+ board[9])\n",
    "    print('   |   |')\n",
    "    print('-----------')\n",
    "    "
   ]
  },
  {
   "cell_type": "code",
   "execution_count": null,
   "id": "f9511d83",
   "metadata": {},
   "outputs": [],
   "source": [
    "def isWinner(bo, le):\n",
    "    return (bo[1] == le and bo[2] == le and bo[3]== le)or(bo[4] == le and bo[5] == le and bo[6]== le)or(bo[7] == le and bo[8] == le and bo[9]== le)or(bo[1] == le and bo[4] == le and bo[7]== le)or(bo[2] == le and bo[5] == le and bo[8]== le)or(bo[3] == le and bo[6] == le and bo[9]== le)or(bo[1] == le and bo[5] == le and bo[9]== le)or(bo[3] == le and bo[5] == le and bo[7]== le)\n",
    "    "
   ]
  },
  {
   "cell_type": "code",
   "execution_count": 17,
   "id": "9f29bc03",
   "metadata": {},
   "outputs": [],
   "source": [
    "def playerMove():\n",
    "    run = True\n",
    "    while run:  # Keep looping until we get a valid move\n",
    "        move = input('Please select a position to place an \\'X\\' (1-9): ')\n",
    "        try:\n",
    "            move  = int(move)\n",
    "            if move > 0 and move < 10:  # makes sure we type in a number between 1-9\n",
    "                if spaceIsFree(move):  # check if the move we choose is valid (no other letter is there already)\n",
    "                    run = False\n",
    "                    insertBoard('X', move)\n",
    "                else:\n",
    "                    print('This postion is already occupied!')\n",
    "            else:\n",
    "                print('Please type a number within the range!')\n",
    "        except:\n",
    "            print('Please type a number!')"
   ]
  },
  {
   "cell_type": "code",
   "execution_count": 18,
   "id": "79ccfdcd",
   "metadata": {},
   "outputs": [],
   "source": [
    "# for the ai we want to figure out three things:\n",
    "# 1 is there a move that results in us winning\n",
    "# 2 is there a move that a player can do that results in them winning if yes we'll block the move\n",
    "# 3 pick a corner to move too\n",
    "# 4 if there is no corner take the center(if not taken)\n",
    "# 5 move to any open edge\n",
    "\n",
    "def compMove():\n",
    "    possibleMoves = [x for x, letter in enumerate(board) if letter == ' ' and x != 0] # Create a list of possible moves\n",
    "    move = 0\n",
    "    \n",
    "    #Check for possible winning move to take or to block opponents winning move\n",
    "    for let in ['O','X']:\n",
    "        for i in possibleMoves:\n",
    "            boardCopy = board[:]\n",
    "            boardCopy[i] = let\n",
    "            if isWinner(boardCopy, let):\n",
    "                move = i\n",
    "                return move\n",
    "\n",
    "\n",
    "    #Try to take one of the corners\n",
    "    cornersOpen = []\n",
    "    for i in possibleMoves:\n",
    "        if i in [1,3,7,9]:\n",
    "            cornersOpen.append(i)\n",
    "    if len(cornersOpen) > 0:\n",
    "        move = selectRandom(cornersOpen)\n",
    "        return move\n",
    "    \n",
    "    #Try to take the center\n",
    "    if 5 in possibleMoves:\n",
    "        move = 5\n",
    "        return move\n",
    "\n",
    "    #Take any edge\n",
    "    edgesOpen = []\n",
    "    for i in possibleMoves:\n",
    "        if i in [2,4,6,8]:\n",
    "            edgesOpen.append(i)\n",
    "    \n",
    "    if len(edgesOpen) > 0:\n",
    "        move = selectRandom(edgesOpen)\n",
    "\n",
    "    return move\n"
   ]
  },
  {
   "cell_type": "code",
   "execution_count": 27,
   "id": "a5ae7cae",
   "metadata": {},
   "outputs": [],
   "source": [
    "def selectRandom(li):\n",
    "    import random\n",
    "    ln = len(li)\n",
    "    r = random.randrange(0,ln)\n",
    "    return li[r]\n",
    "    "
   ]
  },
  {
   "cell_type": "code",
   "execution_count": 28,
   "id": "70a5f019",
   "metadata": {},
   "outputs": [],
   "source": [
    "def isBoardFull(board):\n",
    "    if board.count(' ') > 1:\n",
    "        return False\n",
    "    else:\n",
    "        return True"
   ]
  },
  {
   "cell_type": "code",
   "execution_count": 32,
   "id": "b9be2122",
   "metadata": {},
   "outputs": [],
   "source": [
    "def main():\n",
    "    #Main game loop\n",
    "    print('Welcome to Tic Tac Toe, to win complete a straight line of your letter (Diagonal, Horizontal, Vertical). The board has positions 1-9 starting at the top left.')\n",
    "    printBoard(board)\n",
    "\n",
    "    while not(isBoardFull(board)):\n",
    "        if not(isWinner(board, 'O')):\n",
    "            playerMove()\n",
    "            printBoard(board)\n",
    "        else:\n",
    "            print('O\\'s win this time...')\n",
    "            break\n",
    "\n",
    "        \n",
    "        if not(isWinner(board, 'X')):\n",
    "            move = compMove()\n",
    "            if move == 0:\n",
    "                print('Game is a Tie! No more spaces left to move.')\n",
    "            else:\n",
    "                insertLetter('O', move)\n",
    "                print('Computer placed an \\'O\\' in position', move, ':')\n",
    "                printBoard(board)\n",
    "        else:\n",
    "            print('X\\'s win, good job!')\n",
    "            break\n",
    "\n",
    "\n",
    "    if isBoardFull(board):\n",
    "        print('Game is a tie! No more spaces left to move.')\n"
   ]
  },
  {
   "cell_type": "code",
   "execution_count": null,
   "id": "02dfc99e",
   "metadata": {},
   "outputs": [],
   "source": []
  }
 ],
 "metadata": {
  "kernelspec": {
   "display_name": "Python 3 (ipykernel)",
   "language": "python",
   "name": "python3"
  },
  "language_info": {
   "codemirror_mode": {
    "name": "ipython",
    "version": 3
   },
   "file_extension": ".py",
   "mimetype": "text/x-python",
   "name": "python",
   "nbconvert_exporter": "python",
   "pygments_lexer": "ipython3",
   "version": "3.9.13"
  }
 },
 "nbformat": 4,
 "nbformat_minor": 5
}
